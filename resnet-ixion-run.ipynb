{
 "cells": [
  {
   "cell_type": "code",
   "execution_count": 1,
   "id": "initial_id",
   "metadata": {
    "collapsed": true,
    "ExecuteTime": {
     "end_time": "2025-03-06T17:58:55.783721408Z",
     "start_time": "2025-03-06T17:58:54.238519961Z"
    }
   },
   "outputs": [],
   "source": [
    "#!/usr/bin/env python3\n",
    "from pathlib import Path\n",
    "\n",
    "import torch\n",
    "import torch.nn as nn\n",
    "from PIL import Image\n",
    "from torchvision import models, transforms"
   ]
  },
  {
   "cell_type": "code",
   "execution_count": 2,
   "id": "327c8345cbe8fbe7",
   "metadata": {
    "ExecuteTime": {
     "end_time": "2025-03-06T17:58:55.823085962Z",
     "start_time": "2025-03-06T17:58:55.822670187Z"
    }
   },
   "outputs": [],
   "source": [
    "transform = transforms.Compose([\n",
    "    transforms.Resize((224, 224)),\n",
    "    transforms.ToTensor(),\n",
    "    transforms.Normalize(mean=[0.485, 0.456, 0.406], std=[0.229, 0.224, 0.225])\n",
    "])"
   ]
  },
  {
   "cell_type": "code",
   "execution_count": 3,
   "id": "c3909e9d5331244e",
   "metadata": {
    "ExecuteTime": {
     "end_time": "2025-03-06T17:58:55.823471997Z",
     "start_time": "2025-03-06T17:58:55.822869331Z"
    }
   },
   "outputs": [],
   "source": [
    "class OrientationDetection:\n",
    "    angles = [0, 90, 180, 270]  # classes\n",
    "    _model = None\n",
    "\n",
    "    def __init__(self, checkpoint_path: str, device: str | None = None):\n",
    "        if device is None:\n",
    "            device = \"cuda\" if torch.cuda.is_available() else \"cpu\"\n",
    "        self.device = device\n",
    "        self.checkpoint_path = checkpoint_path\n",
    "\n",
    "    @staticmethod\n",
    "    def read_image(image_path: str) -> Image.Image:\n",
    "        return Image.open(image_path).convert(\"RGB\")\n",
    "    \n",
    "    @property\n",
    "    def model(self):\n",
    "        if self._model is None:\n",
    "            num_classes = len(self.angles)\n",
    "            # define the model architecture (ResNet152) \n",
    "            # and update the final layer for classes\n",
    "            model = models.resnet152(weights=None)\n",
    "            model.fc = nn.Linear(model.fc.in_features, num_classes)\n",
    "            state_dict = torch.load(self.checkpoint_path, map_location=self.device)\n",
    "            model.load_state_dict(state_dict)\n",
    "            # upload the model to device\n",
    "            model.to(self.device)\n",
    "            # set the model to  mode\n",
    "            model.eval()\n",
    "            self._model = model\n",
    "        return self._model\n",
    "\n",
    "    def to_tensor(self, image: Image):\n",
    "        image = image.convert(\"RGB\")\n",
    "        tensor_image = transform(image).unsqueeze(0).to(self.device)\n",
    "        return tensor_image\n",
    "\n",
    "    def get_angles(self, tensor_image: torch.Tensor) -> dict:\n",
    "        # Perform inference and compute probabilities\n",
    "        with torch.no_grad():\n",
    "            # Define the rotation angles corresponding to each class\n",
    "            outputs = self.model(tensor_image)\n",
    "            probabilities = nn.functional.softmax(outputs, dim=1).cpu().numpy()[0]\n",
    "\n",
    "            angles = {angle: score\n",
    "                      for angle, score in zip(self.angles, probabilities)}\n",
    "            return angles\n",
    "\n",
    "    def get_best_angle(self, tensor_image: torch.Tensor):\n",
    "        angles = self.get_angles(tensor_image)\n",
    "        best_angle = max(angles, key=angles.get)\n",
    "        return best_angle\n",
    "\n",
    "    def __call__(self, image_path: Path):\n",
    "        return self.get_best_angle(self.to_tensor(self.read_image(image_path)))"
   ]
  },
  {
   "cell_type": "code",
   "execution_count": 4,
   "outputs": [],
   "source": [
    "def recursive_iterdir(path: Path):\n",
    "    path = Path(path)\n",
    "    for i in path.iterdir():\n",
    "        if i.is_dir():\n",
    "            yield from recursive_iterdir(i)\n",
    "        yield i"
   ],
   "metadata": {
    "collapsed": false,
    "ExecuteTime": {
     "end_time": "2025-03-06T17:58:55.823654877Z",
     "start_time": "2025-03-06T17:58:55.823004810Z"
    }
   },
   "id": "79636cb9f3ac8f55"
  },
  {
   "cell_type": "code",
   "execution_count": 5,
   "outputs": [
    {
     "name": "stdout",
     "output_type": "stream",
     "text": [
      "Checking images/image_1.jpg\n",
      "Orientation probabilities of images/image_1.jpg:\n",
      "0°: 100.00%\n",
      "90°: 0.00%\n",
      "180°: 0.00%\n",
      "270°: 0.00%\n",
      "Image's orientation is correct (0°): 100.00%\n",
      "\n",
      "Orientation probabilities of images/image_1.jpg:\n",
      "0°: 0.03%\n",
      "90°: 99.93%\n",
      "180°: 0.03%\n",
      "270°: 0.01%\n",
      "Image's orientation is correct (90°): 99.93%\n",
      "\n",
      "Orientation probabilities of images/image_1.jpg:\n",
      "0°: 0.00%\n",
      "90°: 0.00%\n",
      "180°: 99.99%\n",
      "270°: 0.00%\n",
      "Image's orientation is correct (180°): 99.99%\n",
      "\n",
      "Orientation probabilities of images/image_1.jpg:\n",
      "0°: 0.00%\n",
      "90°: 0.00%\n",
      "180°: 0.01%\n",
      "270°: 99.99%\n",
      "Image's orientation is correct (270°): 99.99%\n",
      "\n",
      "Checking images/image_2.jpg\n",
      "\n",
      "Orientation probabilities of images/image_2.jpg:\n",
      "0°: 99.41%\n",
      "90°: 0.05%\n",
      "180°: 0.09%\n",
      "270°: 0.45%\n",
      "Image's orientation is correct (0°): 99.41%\n",
      "\n",
      "Orientation probabilities of images/image_2.jpg:\n",
      "0°: 1.32%\n",
      "90°: 95.95%\n",
      "180°: 2.19%\n",
      "270°: 0.54%\n",
      "Image's orientation is correct (90°): 95.95%\n",
      "\n",
      "Orientation probabilities of images/image_2.jpg:\n",
      "0°: 0.13%\n",
      "90°: 0.02%\n",
      "180°: 99.81%\n",
      "270°: 0.04%\n",
      "Image's orientation is correct (180°): 99.81%\n",
      "\n",
      "Orientation probabilities of images/image_2.jpg:\n",
      "0°: 0.18%\n",
      "90°: 0.03%\n",
      "180°: 0.04%\n",
      "270°: 99.74%\n",
      "Image's orientation is correct (270°): 99.74%\n"
     ]
    }
   ],
   "source": [
    "if __name__ == \"__main__\":\n",
    "    checkpoint_path = \"resnet152-ixion-epoch-1.pth\"\n",
    "    od = OrientationDetection(checkpoint_path=checkpoint_path)\n",
    "\n",
    "    for path in recursive_iterdir(\"images\"):\n",
    "        img = Image.open(path)\n",
    "        print(f\"Checking {path}\\n\")\n",
    "\n",
    "        for a in od.angles:\n",
    "            if a != 0:\n",
    "                img = img.transpose(Image.Transpose.ROTATE_90)\n",
    "\n",
    "            tensor_image = od.to_tensor(img)\n",
    "            angles = od.get_angles(tensor_image)\n",
    "\n",
    "            best_angle = max(angles, key=angles.get)\n",
    "            best_score = angles[best_angle] * 100\n",
    "\n",
    "            print(f\"Orientation probabilities of {path}:\")\n",
    "            for angle, prob in angles.items():\n",
    "                prob = prob * 100\n",
    "                print(f\"{angle}°: {prob:.2f}%\")\n",
    "\n",
    "            if best_angle == a:\n",
    "                print(f\"Image's orientation is correct ({a}°): {best_score:.2f}%\")\n",
    "            else:\n",
    "                print(f\"Failure. Model detected {best_angle}° for {best_score:.2f}%, but the correct orientation is {a}°\")\n",
    "            print()"
   ],
   "metadata": {
    "collapsed": false,
    "ExecuteTime": {
     "end_time": "2025-03-06T17:58:56.923221948Z",
     "start_time": "2025-03-06T17:58:55.823111406Z"
    }
   },
   "id": "acd0dfbff4e3f141"
  }
 ],
 "metadata": {
  "kernelspec": {
   "display_name": "Python 3 (ipykernel)",
   "language": "python",
   "name": "python3"
  },
  "language_info": {
   "codemirror_mode": {
    "name": "ipython",
    "version": 3
   },
   "file_extension": ".py",
   "mimetype": "text/x-python",
   "name": "python",
   "nbconvert_exporter": "python",
   "pygments_lexer": "ipython3",
   "version": "3.13.2"
  }
 },
 "nbformat": 4,
 "nbformat_minor": 5
}
